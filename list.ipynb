{
 "cells": [
  {
   "cell_type": "markdown",
   "metadata": {},
   "source": [
    "### List(배열)"
   ]
  },
  {
   "cell_type": "code",
   "execution_count": 2,
   "metadata": {},
   "outputs": [
    {
     "name": "stdout",
     "output_type": "stream",
     "text": [
      "<class 'list'>\n",
      "['mon', 'tus', 'wed', 2022, 10.5, True]\n"
     ]
    }
   ],
   "source": [
    "days = ['mon', 'tus', 'wed', 2022, 10.5, True]\n",
    "print(type(days))\n",
    "print(days)"
   ]
  },
  {
   "cell_type": "code",
   "execution_count": 6,
   "metadata": {},
   "outputs": [
    {
     "name": "stdout",
     "output_type": "stream",
     "text": [
      "mon\n",
      "mon tus wed 2022 10.5 True "
     ]
    }
   ],
   "source": [
    "print(days[0])"
   ]
  },
  {
   "cell_type": "code",
   "execution_count": 9,
   "metadata": {},
   "outputs": [
    {
     "name": "stdout",
     "output_type": "stream",
     "text": [
      "mon tus wed 2022 10.5 True "
     ]
    }
   ],
   "source": [
    "for i in days:\n",
    "    print(i,end=' ')"
   ]
  },
  {
   "cell_type": "code",
   "execution_count": 12,
   "metadata": {},
   "outputs": [
    {
     "name": "stdout",
     "output_type": "stream",
     "text": [
      "mon tus wed 2022 10.5 True  \n",
      "mon tus wed 2022 10.5 True "
     ]
    }
   ],
   "source": [
    "for i in range(6):\n",
    "    print(days[i], end=' ')\n",
    "print(' ')\n",
    "for i in range(len(days)):\n",
    "    print(days[i], end=\" \")"
   ]
  },
  {
   "cell_type": "code",
   "execution_count": 13,
   "metadata": {},
   "outputs": [
    {
     "name": "stdout",
     "output_type": "stream",
     "text": [
      "1. mon\n",
      "2. tus\n",
      "3. wed\n",
      "4. 2022\n",
      "5. 10.5\n",
      "6. True\n"
     ]
    }
   ],
   "source": [
    "for i, item in enumerate(days):\n",
    "    print(f'{i+1}. {days[i]}')"
   ]
  },
  {
   "cell_type": "code",
   "execution_count": 14,
   "metadata": {},
   "outputs": [
    {
     "name": "stdout",
     "output_type": "stream",
     "text": [
      "[93, 73, 94, 17, 77, 93, 37, 26, 73, 77]\n",
      "93 73 94 17 77 93 37 26 73 77 "
     ]
    }
   ],
   "source": [
    "import random\n",
    "\n",
    "data=[]\n",
    "\n",
    "for i in range(10): # 0 ~ 9\n",
    "    data.append(random.randint(1, 100)) # 1 ~ 100\n",
    "\n",
    "print(data)\n",
    "\n",
    "for item in data:\n",
    "  print(item, end=' ')"
   ]
  },
  {
   "cell_type": "code",
   "execution_count": 16,
   "metadata": {},
   "outputs": [
    {
     "name": "stdout",
     "output_type": "stream",
     "text": [
      "[2024, 93, 73, 94, 17, 77, 93, 37, 26, 73, 77]\n"
     ]
    }
   ],
   "source": [
    "data.insert(0,2024)\n",
    "print(data)"
   ]
  },
  {
   "cell_type": "code",
   "execution_count": 17,
   "metadata": {},
   "outputs": [
    {
     "name": "stdout",
     "output_type": "stream",
     "text": [
      "77\n"
     ]
    }
   ],
   "source": [
    "print(data.pop())"
   ]
  },
  {
   "cell_type": "code",
   "execution_count": 18,
   "metadata": {},
   "outputs": [
    {
     "name": "stdout",
     "output_type": "stream",
     "text": [
      "[2024, 93, 73, 94, 17, 77, 93, 37, 26, 73]\n"
     ]
    }
   ],
   "source": [
    "print(data)"
   ]
  },
  {
   "cell_type": "code",
   "execution_count": 20,
   "metadata": {},
   "outputs": [
    {
     "name": "stdout",
     "output_type": "stream",
     "text": [
      "[93, 73, 94, 17, 77, 93, 37, 26, 73]\n"
     ]
    }
   ],
   "source": [
    "data.remove(2024) #좌측에서부터 삭제함\n",
    "print(data)"
   ]
  },
  {
   "cell_type": "code",
   "execution_count": 22,
   "metadata": {},
   "outputs": [
    {
     "name": "stdout",
     "output_type": "stream",
     "text": [
      "[1, 2, 3, 4, 5, 6]\n"
     ]
    }
   ],
   "source": [
    "list1 = [1,2,3]\n",
    "list2 = [4,5,6]\n",
    "list3 = list1 + list2 # 연결, 요소간 더하기(Vector 연산): Numpy\n",
    "print(list3)"
   ]
  },
  {
   "cell_type": "code",
   "execution_count": 26,
   "metadata": {},
   "outputs": [
    {
     "name": "stdout",
     "output_type": "stream",
     "text": [
      "총점: 440, 평균:  88, 등급: B\n"
     ]
    }
   ],
   "source": [
    "# 입사 성적(list, for, if)을 처리하는 프로그램을 제작하시오.\n",
    "# 성적을 list에 저장 할 것, input 함수 생략.\n",
    "# python: 90, java: 80, html: 100, dbms: 70, tensorflow: 100\n",
    "# 총점, 평균, 등급(90 ~ 100: A, 80 ~ 89: B, 70 ~ 79: C, 60 ~ 69: D, 그외는 F를 출력할 것)\n",
    "\n",
    "# 총점: 440, 평균: 88, 등급: B\n",
    "\n",
    "# Hint: list, for, elif\n",
    "\n",
    "data = [90, 80, 100, 70, 100]\n",
    "tot = 0\n",
    "\n",
    "for item in data:\n",
    "    tot = tot + item\n",
    "\n",
    "avg = tot / len(data)\n",
    "grade = ''\n",
    "\n",
    "if 90 <= avg <= 100:\n",
    "    grade = 'A'\n",
    "elif 80 <= avg <= 89:\n",
    "    grade = 'B'\n",
    "elif 70 <= avg <= 79:\n",
    "    grade = 'C'\n",
    "elif 60 <= avg <= 69:\n",
    "    grade = 'D'\n",
    "else:\n",
    "    grade = 'F'\n",
    "\n",
    "print(f'총점: {tot}, 평균: {avg: .0f}, 등급: {grade}')"
   ]
  },
  {
   "cell_type": "code",
   "execution_count": 27,
   "metadata": {},
   "outputs": [
    {
     "name": "stdout",
     "output_type": "stream",
     "text": [
      "성명: 가길동, 총점: 270, 평균: 90.0\n",
      "성명: 나길순, 총점: 270, 평균: 90.0\n",
      "성명: 다길순, 총점: 235, 평균: 78.3\n"
     ]
    }
   ],
   "source": [
    "# 2차원\n",
    "sungjuk = [['가길동', 100, 90, 80],\n",
    "           ['나길순', 90, 95, 85],\n",
    "           ['다길순', 70, 75, 90]]\n",
    "\n",
    "for row in sungjuk:\n",
    "    # print(row)\n",
    "    name = row[0]\n",
    "    tot = row[1] + row[2] + row[3]\n",
    "    avg = tot / 3\n",
    "    print(f'성명: {name}, 총점: {tot}, 평균: {avg:.1f}')"
   ]
  },
  {
   "cell_type": "code",
   "execution_count": 28,
   "metadata": {},
   "outputs": [
    {
     "name": "stdout",
     "output_type": "stream",
     "text": [
      "[0, 1, 2, 3, 4]\n"
     ]
    }
   ],
   "source": [
    "\n",
    "# list 컴프리헨션\n",
    "data = [i for i in range(5)]\n",
    "print(data)"
   ]
  },
  {
   "cell_type": "code",
   "execution_count": 29,
   "metadata": {},
   "outputs": [
    {
     "name": "stdout",
     "output_type": "stream",
     "text": [
      "[1, 2, 3, 4, 5, 6, 7, 8, 9, 10]\n"
     ]
    }
   ],
   "source": [
    "print([i for i in range(1, 11, 1)])"
   ]
  },
  {
   "cell_type": "code",
   "execution_count": 30,
   "metadata": {},
   "outputs": [
    {
     "name": "stdout",
     "output_type": "stream",
     "text": [
      "[2, 4, 6, 8, 10]\n"
     ]
    }
   ],
   "source": [
    "print([i for i in range(1, 11, 1) if i % 2 == 0])\n",
    "#            1                       2"
   ]
  },
  {
   "cell_type": "code",
   "execution_count": 31,
   "metadata": {},
   "outputs": [
    {
     "name": "stdout",
     "output_type": "stream",
     "text": [
      "[1, 2, 3, 4, 5, 6, 7, 8, 9]\n"
     ]
    }
   ],
   "source": [
    "data = [[1, 2, 3], [4, 5, 6], [7, 8, 9]]\n",
    "print([num for row in data for num in row])\n",
    "#               1               2"
   ]
  },
  {
   "cell_type": "code",
   "execution_count": 32,
   "metadata": {},
   "outputs": [
    {
     "name": "stdout",
     "output_type": "stream",
     "text": [
      "[2, 4, 6, 8]\n"
     ]
    }
   ],
   "source": [
    "print([num for row in data for num in row if num % 2 == 0])\n",
    "#               1               2             3"
   ]
  },
  {
   "cell_type": "code",
   "execution_count": 33,
   "metadata": {},
   "outputs": [
    {
     "name": "stdout",
     "output_type": "stream",
     "text": [
      "[4, 16, 36, 64]\n"
     ]
    }
   ],
   "source": [
    "# print([i for i in range(1, 11, 1) if i % 2 == 0 i for i in range(1, 11, 1)else 1]) # X\n",
    "\n",
    "print([num ** 2 for row in data for num in row if num % 2 == 0])"
   ]
  },
  {
   "cell_type": "code",
   "execution_count": 68,
   "metadata": {},
   "outputs": [
    {
     "name": "stdout",
     "output_type": "stream",
     "text": [
      "[3, 1, 5, 8, 10]\n"
     ]
    }
   ],
   "source": [
    "import random\n",
    "\n",
    "data = [random.randint(1,10) for i in range(5)]\n",
    "print(data)"
   ]
  },
  {
   "cell_type": "code",
   "execution_count": 69,
   "metadata": {},
   "outputs": [],
   "source": [
    "data.sort()"
   ]
  },
  {
   "cell_type": "code",
   "execution_count": 70,
   "metadata": {},
   "outputs": [
    {
     "name": "stdout",
     "output_type": "stream",
     "text": [
      "[1, 3, 5, 8, 10]\n"
     ]
    }
   ],
   "source": [
    "print(data)"
   ]
  },
  {
   "cell_type": "code",
   "execution_count": 82,
   "metadata": {},
   "outputs": [],
   "source": [
    "data.sort(reverse=True)#Decending"
   ]
  },
  {
   "cell_type": "code",
   "execution_count": null,
   "metadata": {},
   "outputs": [],
   "source": [
    "data.sort(reverse=False)#Ascending"
   ]
  },
  {
   "cell_type": "code",
   "execution_count": 72,
   "metadata": {},
   "outputs": [
    {
     "name": "stdout",
     "output_type": "stream",
     "text": [
      "[10, 8, 5, 3, 1]\n"
     ]
    }
   ],
   "source": [
    "print(data)"
   ]
  },
  {
   "cell_type": "code",
   "execution_count": 81,
   "metadata": {},
   "outputs": [
    {
     "name": "stdout",
     "output_type": "stream",
     "text": [
      "[1, 3, 5, 8, 10]\n"
     ]
    }
   ],
   "source": [
    "data.reverse()\n",
    "print(data)"
   ]
  },
  {
   "cell_type": "code",
   "execution_count": 83,
   "metadata": {},
   "outputs": [
    {
     "name": "stdout",
     "output_type": "stream",
     "text": [
      "['가길동', '나길동', '다길동']\n"
     ]
    }
   ],
   "source": [
    "data = ['다길동', '나길동', '가길동']\n",
    "data.sort(reverse=False)\n",
    "print(data)"
   ]
  },
  {
   "cell_type": "code",
   "execution_count": 86,
   "metadata": {},
   "outputs": [
    {
     "name": "stdout",
     "output_type": "stream",
     "text": [
      "3.6666666666666665\n",
      "3\n"
     ]
    }
   ],
   "source": [
    "print(11/3)\n",
    "print(11//3)"
   ]
  },
  {
   "cell_type": "code",
   "execution_count": 87,
   "metadata": {},
   "outputs": [
    {
     "name": "stdout",
     "output_type": "stream",
     "text": [
      "95 : ***********************************************************************************************\n",
      "80 : ********************************************************************************\n",
      "75 : ***************************************************************************\n",
      "71 : ***********************************************************************\n",
      "67 : *******************************************************************\n",
      "50 : **************************************************\n",
      "45 : *********************************************\n"
     ]
    }
   ],
   "source": [
    "# 각 영업부서의 판매실적을 10만원당 '*'하나로 대응하여 출력하시오.\n",
    "# 출력\n",
    "# 95 :***********************************************************************************************\n",
    "# 80 :********************************************************************************\n",
    "# 75 :***************************************************************************\n",
    "# 71 :***********************************************************************\n",
    "# 67 :*******************************************************************\n",
    "# 50 :**************************************************\n",
    "# 45 :*********************************************\n",
    "# 필수 구현\n",
    "sales = [950, 750, 500, 450, 800, 670, 710]\n",
    "\n",
    "for i in range(len(sales)): # 0 ~ 6\n",
    "    sales[i] = int(sales[i] / 10) # int: 반올림 안됨\n",
    "\n",
    "sales.sort(reverse=True)\n",
    "# print(sales)\n",
    "\n",
    "for i in range(len(sales)): # 0 ~ 6\n",
    "    print(sales[i], ':', '*' * sales[i])"
   ]
  },
  {
   "cell_type": "code",
   "execution_count": 90,
   "metadata": {},
   "outputs": [
    {
     "name": "stdout",
     "output_type": "stream",
     "text": [
      "F\n",
      "R\n",
      "I\n",
      "D\n",
      "A\n",
      "Y\n"
     ]
    }
   ],
   "source": [
    "data = 'Friday'\n",
    "for chr in range(len(data)):\n",
    "    print(data[chr].upper())"
   ]
  },
  {
   "cell_type": "code",
   "execution_count": 91,
   "metadata": {},
   "outputs": [
    {
     "name": "stdout",
     "output_type": "stream",
     "text": [
      "[10, 20, 30, 40, 50]\n",
      "50 40 30 20 10 "
     ]
    }
   ],
   "source": [
    "data = [i*10 for i in range(1, 6, 1)]\n",
    "print(data)\n",
    "\n",
    "for i in range(len(data)-1, -1, -1):\n",
    "  print(data[i], end=' ')"
   ]
  },
  {
   "cell_type": "code",
   "execution_count": 92,
   "metadata": {},
   "outputs": [
    {
     "name": "stdout",
     "output_type": "stream",
     "text": [
      "FRIDAY\n",
      "Y A D I R F "
     ]
    }
   ],
   "source": [
    "data = \"FRIDAY\"\n",
    "print(data)\n",
    "\n",
    "for i in range(len(data)-1, -1, -1):\n",
    "  print(data[i], end=' ')"
   ]
  },
  {
   "cell_type": "code",
   "execution_count": 93,
   "metadata": {},
   "outputs": [
    {
     "name": "stdout",
     "output_type": "stream",
     "text": [
      "['A', 'Z', 'a', 'z']\n",
      "['A', 'a', 'Z', 'z']\n"
     ]
    }
   ],
   "source": [
    "data = ['a', 'A', 'z', 'Z']\n",
    "data.sort() # 오름 차순\n",
    "print(data)\n",
    "\n",
    "data.sort(key=str.lower) # 의미기반 정렬\n",
    "print(data)\n",
    "\n",
    "# data=[100, 150, 'a', 'Z', 'b']\n",
    "# data.sort() # X, 정렬시는 타입이 일치되어야함."
   ]
  },
  {
   "cell_type": "code",
   "execution_count": 112,
   "metadata": {},
   "outputs": [
    {
     "name": "stdout",
     "output_type": "stream",
     "text": [
      "[6, 4, 3, 46, 64, 30, 89, 24, 100, 18, 16, 57, 60, 96, 71, 22, 10, 76, 89, 51, 93, 73, 41, 16, 48, 33, 69, 77, 11, 44, 46, 22, 15, 74, 3, 39, 49, 48, 57, 40, 41, 7, 39, 53, 100, 57, 35, 81, 41, 2, 93, 25, 11, 8, 70, 91, 87, 76, 79, 39, 5, 27, 43, 81, 62, 1, 64, 44, 67, 19, 30, 19, 73, 75, 35, 94, 30, 98, 54, 34, 85, 12, 9, 24, 30, 89, 100, 1, 73, 49, 73, 25, 82, 80, 31, 1, 44, 62, 38, 96]\n"
     ]
    }
   ],
   "source": [
    "#데이터 분할\n",
    "import random\n",
    "\n",
    "data = [random.randint(1,100) for i in range(100)]\n",
    "print(data)"
   ]
  },
  {
   "cell_type": "code",
   "execution_count": null,
   "metadata": {},
   "outputs": [],
   "source": [
    "for i in range(1,101,1):\n",
    "    print(f'{i}: {data.count(i)} 개')"
   ]
  },
  {
   "cell_type": "code",
   "execution_count": 117,
   "metadata": {},
   "outputs": [
    {
     "name": "stdout",
     "output_type": "stream",
     "text": [
      "70\n",
      "[6, 4, 3, 46, 64, 30, 89, 24, 100, 18, 16, 57, 60, 96, 71, 22, 10, 76, 89, 51, 93, 73, 41, 16, 48, 33, 69, 77, 11, 44, 46, 22, 15, 74, 3, 39, 49, 48, 57, 40, 41, 7, 39, 53, 100, 57, 35, 81, 41, 2, 93, 25, 11, 8, 70, 91, 87, 76, 79, 39, 5, 27, 43, 81, 62, 1, 64, 44, 67, 19]\n"
     ]
    }
   ],
   "source": [
    "# 훈련: 70%, 검증: 25%, 테스트: 5%\n",
    "train = data[0:70] # 0 ~ 69\n",
    "print(len(train))\n",
    "print(train)"
   ]
  },
  {
   "cell_type": "code",
   "execution_count": 118,
   "metadata": {},
   "outputs": [
    {
     "name": "stdout",
     "output_type": "stream",
     "text": [
      "70\n",
      "[6, 4, 3, 46, 64, 30, 89, 24, 100, 18, 16, 57, 60, 96, 71, 22, 10, 76, 89, 51, 93, 73, 41, 16, 48, 33, 69, 77, 11, 44, 46, 22, 15, 74, 3, 39, 49, 48, 57, 40, 41, 7, 39, 53, 100, 57, 35, 81, 41, 2, 93, 25, 11, 8, 70, 91, 87, 76, 79, 39, 5, 27, 43, 81, 62, 1, 64, 44, 67, 19]\n"
     ]
    }
   ],
   "source": [
    "train = data[0:int(len(data) * 0.7)]\n",
    "print(len(train))\n",
    "print(train)"
   ]
  },
  {
   "cell_type": "code",
   "execution_count": 123,
   "metadata": {},
   "outputs": [
    {
     "name": "stdout",
     "output_type": "stream",
     "text": [
      "70\n",
      "[6, 4, 3, 46, 64, 30, 89, 24, 100, 18, 16, 57, 60, 96, 71, 22, 10, 76, 89, 51, 93, 73, 41, 16, 48, 33, 69, 77, 11, 44, 46, 22, 15, 74, 3, 39, 49, 48, 57, 40, 41, 7, 39, 53, 100, 57, 35, 81, 41, 2, 93, 25, 11, 8, 70, 91, 87, 76, 79, 39, 5, 27, 43, 81, 62, 1, 64, 44, 67, 19]\n"
     ]
    }
   ],
   "source": [
    "train = data[:int(len(data) * 0.7)]\n",
    "print(len(train))\n",
    "print(train)"
   ]
  },
  {
   "cell_type": "code",
   "execution_count": 124,
   "metadata": {},
   "outputs": [
    {
     "name": "stdout",
     "output_type": "stream",
     "text": [
      "25\n",
      "[30, 19, 73, 75, 35, 94, 30, 98, 54, 34, 85, 12, 9, 24, 30, 89, 100, 1, 73, 49, 73, 25, 82, 80, 31]\n"
     ]
    }
   ],
   "source": [
    "train = data[70:95] # 70% 제외, 25% 산출\n",
    "print(len(train))\n",
    "print(train)"
   ]
  },
  {
   "cell_type": "code",
   "execution_count": 125,
   "metadata": {},
   "outputs": [
    {
     "name": "stdout",
     "output_type": "stream",
     "text": [
      "25\n",
      "[30, 19, 73, 75, 35, 94, 30, 98, 54, 34, 85, 12, 9, 24, 30, 89, 100, 1, 73, 49, 73, 25, 82, 80, 31]\n"
     ]
    }
   ],
   "source": [
    "train = data[int(len(data)*0.7):int(len(data)*0.95)] # 70% 제외, 25% 산출\n",
    "print(len(train))\n",
    "print(train)"
   ]
  },
  {
   "cell_type": "code",
   "execution_count": 127,
   "metadata": {},
   "outputs": [
    {
     "name": "stdout",
     "output_type": "stream",
     "text": [
      "[1, 44, 62, 38, 96]\n"
     ]
    }
   ],
   "source": [
    "train = data[95:]\n",
    "print(train)"
   ]
  },
  {
   "cell_type": "code",
   "execution_count": 129,
   "metadata": {},
   "outputs": [
    {
     "name": "stdout",
     "output_type": "stream",
     "text": [
      "[1, 44, 62, 38, 96]\n"
     ]
    }
   ],
   "source": [
    "train = data[int(len(data)*0.95):]\n",
    "print(train)"
   ]
  }
 ],
 "metadata": {
  "kernelspec": {
   "display_name": "ai",
   "language": "python",
   "name": "python3"
  },
  "language_info": {
   "codemirror_mode": {
    "name": "ipython",
    "version": 3
   },
   "file_extension": ".py",
   "mimetype": "text/x-python",
   "name": "python",
   "nbconvert_exporter": "python",
   "pygments_lexer": "ipython3",
   "version": "3.10.13"
  }
 },
 "nbformat": 4,
 "nbformat_minor": 2
}
