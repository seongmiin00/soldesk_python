{
 "cells": [
  {
   "cell_type": "markdown",
   "metadata": {},
   "source": [
    "### Tuple\n",
    "- List와 거의 같은 기능을 하나 값을 변경할 수 없음.\n",
    "- 값이 변경되면 안되는 데이터 원본을 저장하는경우 사용\n",
    "- 데이터 분석 패키지들이 데이터를 제공하는 형식"
   ]
  },
  {
   "cell_type": "code",
   "execution_count": 2,
   "metadata": {},
   "outputs": [
    {
     "name": "stdout",
     "output_type": "stream",
     "text": [
      "('서울', '경기', '인천')\n",
      "<class 'tuple'>\n"
     ]
    }
   ],
   "source": [
    "data = ('서울', '경기', '인천')\n",
    "print(data)\n",
    "print(type(data))"
   ]
  },
  {
   "cell_type": "code",
   "execution_count": 7,
   "metadata": {},
   "outputs": [
    {
     "name": "stdout",
     "output_type": "stream",
     "text": [
      "서울\n",
      "경기\n",
      "인천\n"
     ]
    }
   ],
   "source": [
    "for item in data:\n",
    "    print(item)"
   ]
  },
  {
   "cell_type": "code",
   "execution_count": 9,
   "metadata": {},
   "outputs": [
    {
     "name": "stdout",
     "output_type": "stream",
     "text": [
      "서울\n",
      "경기\n",
      "인천\n"
     ]
    }
   ],
   "source": [
    "for i in range(len(data)):\n",
    "    print(data[i])"
   ]
  },
  {
   "cell_type": "code",
   "execution_count": 11,
   "metadata": {},
   "outputs": [],
   "source": [
    "# data[0] = '강원도' -> X"
   ]
  },
  {
   "cell_type": "code",
   "execution_count": 13,
   "metadata": {},
   "outputs": [
    {
     "name": "stdout",
     "output_type": "stream",
     "text": [
      "('서울', '경기', '인천', 1, 2, 3, 1, 2, 3)\n"
     ]
    }
   ],
   "source": [
    "data = data +(1,2,3)\n",
    "print(data)"
   ]
  },
  {
   "cell_type": "code",
   "execution_count": 15,
   "metadata": {},
   "outputs": [
    {
     "name": "stdout",
     "output_type": "stream",
     "text": [
      "('서울', '경기', '인천')\n"
     ]
    }
   ],
   "source": [
    "print(data[:3])"
   ]
  },
  {
   "cell_type": "code",
   "execution_count": 17,
   "metadata": {},
   "outputs": [],
   "source": [
    "data = list(data)"
   ]
  },
  {
   "cell_type": "code",
   "execution_count": 18,
   "metadata": {},
   "outputs": [
    {
     "name": "stdout",
     "output_type": "stream",
     "text": [
      "['서울', '경기', '인천', 1, 2, 3, 1, 2, 3]\n"
     ]
    }
   ],
   "source": [
    "print(data)"
   ]
  },
  {
   "cell_type": "markdown",
   "metadata": {},
   "source": [
    "### Dictionary\n",
    "- Key : Value의 구조\n",
    "- JSON과 구조가 같아 서로 변환이 가능함"
   ]
  },
  {
   "cell_type": "code",
   "execution_count": 19,
   "metadata": {},
   "outputs": [
    {
     "name": "stdout",
     "output_type": "stream",
     "text": [
      "{'성명': '김창인', '나이': 25, '기술': ['swift', 'java', 'python']}\n",
      "<class 'dict'>\n"
     ]
    }
   ],
   "source": [
    "emp = {'성명' : '김창인', '나이' : 25, '기술' : ['swift', 'java', 'python']}\n",
    "print(emp)\n",
    "print(type(emp))"
   ]
  },
  {
   "cell_type": "code",
   "execution_count": 28,
   "metadata": {},
   "outputs": [
    {
     "name": "stdout",
     "output_type": "stream",
     "text": [
      "{'성명': '김창인', '나이': 25, '기술': ['swift', 'java', 'python'], '주소': ' 암사'}\n"
     ]
    }
   ],
   "source": [
    "emp['주소'] = ' 암사'\n",
    "print(emp)"
   ]
  },
  {
   "cell_type": "code",
   "execution_count": 29,
   "metadata": {},
   "outputs": [
    {
     "name": "stdout",
     "output_type": "stream",
     "text": [
      "{'성명': '김창인', '나이': 25, '기술': ['Data Analysis', 'Tensorflow', 'AutoKeras'], '주소': ' 암사'}\n"
     ]
    }
   ],
   "source": [
    "emp['기술'] = ['Data Analysis', 'Tensorflow', 'AutoKeras'] #기존에 키가 있으면 변경됨\n",
    "print(emp)"
   ]
  },
  {
   "cell_type": "code",
   "execution_count": 30,
   "metadata": {},
   "outputs": [
    {
     "name": "stdout",
     "output_type": "stream",
     "text": [
      "성명 : 김창인\n",
      "나이 : 25\n",
      "기술 : ['Data Analysis', 'Tensorflow', 'AutoKeras']\n",
      "주소 :  암사\n"
     ]
    }
   ],
   "source": [
    "for i,j in emp.items():\n",
    "    print(f'{i} : {j}')"
   ]
  },
  {
   "cell_type": "code",
   "execution_count": null,
   "metadata": {},
   "outputs": [],
   "source": [
    "del emp['주소']\n",
    "print(emp)"
   ]
  },
  {
   "cell_type": "code",
   "execution_count": 37,
   "metadata": {},
   "outputs": [
    {
     "ename": "ValueError",
     "evalue": "invalid literal for int() with base 10: 'a'",
     "output_type": "error",
     "traceback": [
      "\u001b[1;31m---------------------------------------------------------------------------\u001b[0m",
      "\u001b[1;31mValueError\u001b[0m                                Traceback (most recent call last)",
      "Cell \u001b[1;32mIn[37], line 1\u001b[0m\n\u001b[1;32m----> 1\u001b[0m a,b \u001b[38;5;241m=\u001b[39m \u001b[38;5;28mmap\u001b[39m(\u001b[38;5;28mint\u001b[39m, \u001b[38;5;28minput\u001b[39m()\u001b[38;5;241m.\u001b[39msplit())\n",
      "\u001b[1;31mValueError\u001b[0m: invalid literal for int() with base 10: 'a'"
     ]
    }
   ],
   "source": [
    "a,b = map(int, input().split())"
   ]
  },
  {
   "cell_type": "code",
   "execution_count": 38,
   "metadata": {},
   "outputs": [],
   "source": [
    "import json\n",
    "\n",
    "#변수의 값으로 다중 라인 문자열 지정\n",
    "movies='''\n",
    "{\n",
    "  \"list\": [\n",
    "    {\n",
    "      \"title\": \"엑소씨스트 영화 1\",\n",
    "      \"release_year\": 2020,\n",
    "      \"rating\": 9.2\n",
    "    },\n",
    "    {\n",
    "      \"title\": \"엑소씨스트 영화 2\",\n",
    "      \"release_year\": 2018,\n",
    "      \"rating\": 9.1\n",
    "    },\n",
    "    {\n",
    "      \"title\": \"엑소씨스트 영화 3\",\n",
    "      \"release_year\": 2019,\n",
    "      \"rating\": 9.0\n",
    "    },\n",
    "    {\n",
    "      \"title\": \"엑소씨스트 영화 4\",\n",
    "      \"release_year\": 2021,\n",
    "      \"rating\": 8.9\n",
    "    },\n",
    "    {\n",
    "      \"title\": \"엑소씨스트 영화 5\",\n",
    "      \"release_year\": 2017,\n",
    "      \"rating\": 8.8\n",
    "    }\n",
    "  ]\n",
    "}\n",
    "'''"
   ]
  },
  {
   "cell_type": "code",
   "execution_count": 41,
   "metadata": {},
   "outputs": [
    {
     "name": "stdout",
     "output_type": "stream",
     "text": [
      "<class 'dict'>\n"
     ]
    }
   ],
   "source": [
    "obj = json.loads(movies) # str -> json 형 변형\n",
    "print(type(obj))"
   ]
  },
  {
   "cell_type": "code",
   "execution_count": 43,
   "metadata": {},
   "outputs": [
    {
     "name": "stdout",
     "output_type": "stream",
     "text": [
      "{'list': [{'title': '엑소씨스트 영화 1', 'release_year': 2020, 'rating': 9.2}, {'title': '엑소씨스트 영화 2', 'release_year': 2018, 'rating': 9.1}, {'title': '엑소씨스트 영화 3', 'release_year': 2019, 'rating': 9.0}, {'title': '엑소씨스트 영화 4', 'release_year': 2021, 'rating': 8.9}, {'title': '엑소씨스트 영화 5', 'release_year': 2017, 'rating': 8.8}]}\n"
     ]
    }
   ],
   "source": [
    "print(obj)"
   ]
  },
  {
   "cell_type": "code",
   "execution_count": 44,
   "metadata": {},
   "outputs": [],
   "source": [
    "dpr = '''\n",
    "{\n",
    "  \"DPR Live\": [\n",
    "    {\"title\": \"Jasmine\"},\n",
    "    {\"title\": \"Martini Blue\"},\n",
    "    {\"title\": \"Text Me\"},\n",
    "    {\"title\": \"Know Me\"},\n",
    "    {\"title\": \"Legacy\"}\n",
    "  ]\n",
    "}\n",
    "'''\n"
   ]
  },
  {
   "cell_type": "code",
   "execution_count": 48,
   "metadata": {},
   "outputs": [
    {
     "name": "stdout",
     "output_type": "stream",
     "text": [
      "[{'title': 'Jasmine'}, {'title': 'Martini Blue'}, {'title': 'Text Me'}, {'title': 'Know Me'}, {'title': 'Legacy'}]\n"
     ]
    }
   ],
   "source": [
    "obj = json.loads(dpr)\n",
    "# print(obj)\n",
    "# for i in range()\n",
    "print(f'{obj[\"DPR Live\"]}')"
   ]
  },
  {
   "cell_type": "code",
   "execution_count": 50,
   "metadata": {},
   "outputs": [
    {
     "name": "stdout",
     "output_type": "stream",
     "text": [
      "4\n"
     ]
    }
   ],
   "source": [
    "def sum(a,b):\n",
    "    print(a+b)\n",
    "\n",
    "sum(1,3)"
   ]
  }
 ],
 "metadata": {
  "kernelspec": {
   "display_name": "ai",
   "language": "python",
   "name": "python3"
  },
  "language_info": {
   "codemirror_mode": {
    "name": "ipython",
    "version": 3
   },
   "file_extension": ".py",
   "mimetype": "text/x-python",
   "name": "python",
   "nbconvert_exporter": "python",
   "pygments_lexer": "ipython3",
   "version": "3.10.13"
  }
 },
 "nbformat": 4,
 "nbformat_minor": 2
}
