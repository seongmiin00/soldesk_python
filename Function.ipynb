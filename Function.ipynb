{
 "cells": [
  {
   "cell_type": "markdown",
   "metadata": {},
   "source": [
    "### 함수\n",
    "- 데이터를 전달 받는다 -> 전달 받은 데이터를 처리한다 -> 처리 결과를 리턴한다.\n",
    "- 한번의 코딩으로 반복적인 데이터 처리가 가능하다."
   ]
  },
  {
   "cell_type": "code",
   "execution_count": 10,
   "metadata": {},
   "outputs": [],
   "source": [
    "# 함수 선언 , 코드 실행시 함수가 메모리에 저장됨\n",
    "def login():\n",
    "    print('로그인 성공')\n",
    "\n",
    "def logout():\n",
    "    print('로그아웃 되었습니다.')"
   ]
  },
  {
   "cell_type": "code",
   "execution_count": 11,
   "metadata": {},
   "outputs": [
    {
     "name": "stdout",
     "output_type": "stream",
     "text": [
      "로그인 성공\n",
      "로그아웃 되었습니다.\n"
     ]
    }
   ],
   "source": [
    "login()\n",
    "logout()"
   ]
  },
  {
   "cell_type": "code",
   "execution_count": 12,
   "metadata": {},
   "outputs": [],
   "source": [
    "def login(id):\n",
    "    print(f'{id}님 로그인 성공')\n",
    "\n",
    "def logout(id):\n",
    "    print(f'{id}님 로그아웃 되었습니다.')"
   ]
  },
  {
   "cell_type": "code",
   "execution_count": 13,
   "metadata": {},
   "outputs": [
    {
     "name": "stdout",
     "output_type": "stream",
     "text": [
      "seongmin님 로그인 성공\n",
      "seongmin님 로그아웃 되었습니다.\n"
     ]
    }
   ],
   "source": [
    "login('seongmin')\n",
    "logout('seongmin')"
   ]
  },
  {
   "cell_type": "code",
   "execution_count": 14,
   "metadata": {},
   "outputs": [],
   "source": [
    "def login(id,password):\n",
    "    if id == 'user1' and password =='1234':\n",
    "        print(f'{id}님 로그인 성공')\n",
    "    else:\n",
    "        print('로그인 실패')\n",
    "\n",
    "def logout(id, password):\n",
    "    if id == 'user1' and password =='1234':\n",
    "        print(f'{id}님 로그아웃 되었습니다.')"
   ]
  },
  {
   "cell_type": "code",
   "execution_count": 15,
   "metadata": {},
   "outputs": [],
   "source": [
    "def login(id,password):\n",
    "    if id == 'user1' and password =='1234':\n",
    "        return True\n",
    "    else:\n",
    "        return False\n",
    "\n",
    "def logout(id, password):\n",
    "    if id == 'user1' and password =='1234':\n",
    "        print(f'{id}님 로그아웃 되었습니다.')"
   ]
  },
  {
   "cell_type": "code",
   "execution_count": 16,
   "metadata": {},
   "outputs": [
    {
     "name": "stdout",
     "output_type": "stream",
     "text": [
      "로그인성공\n"
     ]
    }
   ],
   "source": [
    "sw = login('user1','1234')\n",
    "if sw == True:\n",
    "    print('로그인성공')\n",
    "else:\n",
    "    print('로그인 실패')"
   ]
  },
  {
   "cell_type": "code",
   "execution_count": 17,
   "metadata": {},
   "outputs": [
    {
     "name": "stdout",
     "output_type": "stream",
     "text": [
      "댓글쓰기\n"
     ]
    }
   ],
   "source": [
    "if sw == True:\n",
    "    print('댓글쓰기')\n",
    "else:\n",
    "    print('댓글쓰기 불가능')"
   ]
  },
  {
   "cell_type": "code",
   "execution_count": 18,
   "metadata": {},
   "outputs": [
    {
     "data": {
      "text/plain": [
       "3.6666666666666665"
      ]
     },
     "execution_count": 18,
     "metadata": {},
     "output_type": "execute_result"
    }
   ],
   "source": [
    "11/3"
   ]
  },
  {
   "cell_type": "code",
   "execution_count": 26,
   "metadata": {},
   "outputs": [],
   "source": [
    "def add(a,b):\n",
    "    return a+b\n",
    "\n",
    "def sub(a,b):\n",
    "    return a-b\n",
    "\n",
    "def mul(a,b):\n",
    "    return a*b\n",
    "\n",
    "def div(a,b):\n",
    "    return a/b\n",
    "\n",
    "def mok(a,b):\n",
    "    return a//b\n",
    "\n",
    "def nam(a,b):\n",
    "    return a%b"
   ]
  },
  {
   "cell_type": "code",
   "execution_count": 27,
   "metadata": {},
   "outputs": [
    {
     "name": "stdout",
     "output_type": "stream",
     "text": [
      "9\n",
      "-3\n",
      "18\n",
      "0.5\n",
      "0\n",
      "3\n"
     ]
    }
   ],
   "source": [
    "a = 3\n",
    "b = 6\n",
    "\n",
    "print(add(a,b))\n",
    "print(sub(a,b))\n",
    "print(mul(a,b))\n",
    "print(div(a,b))\n",
    "print(mok(a,b))\n",
    "print(nam(a,b))"
   ]
  },
  {
   "cell_type": "code",
   "execution_count": 1,
   "metadata": {},
   "outputs": [],
   "source": [
    "def calc(a,b):\n",
    "    sum = a+b\n",
    "    min = a-b\n",
    "    mul = a*b\n",
    "    div = a/b\n",
    "    mok = a//b\n",
    "    nam = a%b\n",
    "    return sum,min,mul,div,mok,nam"
   ]
  },
  {
   "cell_type": "code",
   "execution_count": 2,
   "metadata": {},
   "outputs": [
    {
     "name": "stdout",
     "output_type": "stream",
     "text": [
      "10 0 25 1.0 1 0\n"
     ]
    }
   ],
   "source": [
    "sum,min,mul,div,mok,nam = calc(5,3)\n",
    "print(sum,min,mul,div,mok,nam)"
   ]
  },
  {
   "cell_type": "code",
   "execution_count": null,
   "metadata": {},
   "outputs": [],
   "source": [
    "def calc(a,b,c):\n",
    "    if c == '+':\n",
    "        return a+b\n",
    "    elif c =='-':\n",
    "        return a-b\n",
    "    elif c =='*':\n",
    "        return a*b\n",
    "    elif c =='/':\n",
    "        return a/b\n",
    "    elif c =='//':\n",
    "        return a//b\n",
    "    elif c =='%':\n",
    "        return a%b"
   ]
  },
  {
   "cell_type": "code",
   "execution_count": 4,
   "metadata": {},
   "outputs": [
    {
     "name": "stdout",
     "output_type": "stream",
     "text": [
      "원룸의 크기: 24m²7.272727272727273 평\n"
     ]
    }
   ],
   "source": [
    "# m²/ 3.3 = 평\n",
    "\n",
    "# 원룸의 width를 입력하세요:6\n",
    "# 원룸의 height를 입력하세요:4\n",
    "# 원룸의 크기: 24 m²7.272727272727273 평\n",
    "\n",
    "width = int(input('원룸의 width를 입력하세요:'))\n",
    "height = int(input('원룸의 height를 입력하세요:'))\n",
    "m2 = width * height # 함수 대상\n",
    "py = m2 / 3.3       # 함수 대상\n",
    "\n",
    "print(f'원룸의 크기: {m2}m²{py} 평')\n"
   ]
  },
  {
   "cell_type": "code",
   "execution_count": null,
   "metadata": {},
   "outputs": [],
   "source": [
    "def m2(width, height):\n",
    "    return width * height\n",
    "\n",
    "def py(m2):\n",
    "    return m2 / 3.3\n",
    "\n",
    "width = int(input('원룸의 width를 입력하세요:'))\n",
    "height = int(input('원룸의 height를 입력하세요:'))\n",
    "\n",
    "a = m2(width,height)\n",
    "b = py(a)\n",
    "\n",
    "print(f'원룸의 크기: {a}m² {b} 평')"
   ]
  },
  {
   "cell_type": "code",
   "execution_count": 9,
   "metadata": {},
   "outputs": [
    {
     "name": "stdout",
     "output_type": "stream",
     "text": [
      "원룸의 크기: 24m² 7.272727272727273 평\n"
     ]
    }
   ],
   "source": [
    "def oneRoom(width, height):\n",
    "    m2 = width * height\n",
    "    return m2 , m2 / 3.3\n",
    "\n",
    "width = int(input('원룸의 width를 입력하세요:'))\n",
    "height = int(input('원룸의 height를 입력하세요:'))\n",
    "\n",
    "m2,py = oneRoom(width,height)\n",
    "\n",
    "print(f'원룸의 크기: {m2}m² {py} 평')"
   ]
  },
  {
   "cell_type": "code",
   "execution_count": null,
   "metadata": {},
   "outputs": [],
   "source": [
    "# 신체질량지수(BMI) = (몸무게(kg) / 신장의 제곱) * 10000\n",
    "\n",
    "# 몸무게(kg):64\n",
    "# 키(신장, cm):167\n",
    "# BMI: 22.948115744558788\n",
    "\n",
    "def calcbmi(cm, kg):\n",
    "    bmi= kg / (cm**2) * 10000\n",
    "    return bmi\n",
    "\n",
    "cm = int(input(\"키를 입력하세요 :\"))\n",
    "kg = int(input(\"몸무게를 입력하세요:\"))\n",
    "\n",
    "bmi= calcbmi(cm, kg)\n",
    "print(f'BMI: {bmi}')"
   ]
  },
  {
   "cell_type": "code",
   "execution_count": 104,
   "metadata": {},
   "outputs": [],
   "source": [
    "# global 전역 변수의 사용\n",
    "# 여러개의 함수가 값을 공유할 때 사용\n",
    "\n",
    "tot=0 # 젼역 변수\n",
    "\n",
    "def ibgo(item):\n",
    "    global tot # 전역 변수 사용 선언, 생략시 에러 발생\n",
    "    tot = tot + item\n",
    "    print('입고 {0} -> 재고 {1}'.format(item, tot))\n",
    "\n",
    "def chulgo(item):\n",
    "    global tot\n",
    "    tot = tot + item\n",
    "    print('출고 {0} -> 재고 {1}'.format(item*-1, tot))"
   ]
  },
  {
   "cell_type": "code",
   "execution_count": 12,
   "metadata": {},
   "outputs": [
    {
     "name": "stdout",
     "output_type": "stream",
     "text": [
      "입고 1 -> 재고 1\n",
      "입고 2 -> 재고 3\n",
      "입고 3 -> 재고 6\n"
     ]
    }
   ],
   "source": [
    "ibgo(1)\n",
    "ibgo(2)\n",
    "ibgo(3)"
   ]
  },
  {
   "cell_type": "code",
   "execution_count": 14,
   "metadata": {},
   "outputs": [
    {
     "name": "stdout",
     "output_type": "stream",
     "text": [
      "출고 3 -> 재고 -3\n",
      "출고 2 -> 재고 -5\n",
      "출고 1 -> 재고 -6\n"
     ]
    }
   ],
   "source": [
    "chulgo(3)\n",
    "chulgo(2)\n",
    "chulgo(1)"
   ]
  },
  {
   "cell_type": "code",
   "execution_count": 114,
   "metadata": {},
   "outputs": [
    {
     "name": "stdout",
     "output_type": "stream",
     "text": [
      "3\n"
     ]
    }
   ],
   "source": [
    "import random\n",
    "\n",
    "data = [-3,-2,-1,1,2,3] #-1은 출고 1은 입고\n",
    "\n",
    "su = random.choice(data)\n",
    "print(su)"
   ]
  },
  {
   "cell_type": "code",
   "execution_count": 119,
   "metadata": {},
   "outputs": [
    {
     "name": "stdout",
     "output_type": "stream",
     "text": [
      "총 재고 : 137\n"
     ]
    }
   ],
   "source": [
    "tot = 0\n",
    "\n",
    "def ibgo(item):\n",
    "    global tot # 전역 변수 사용 선언, 생략시 에러 발생\n",
    "    tot = tot + item\n",
    "\n",
    "def chulgo(item):\n",
    "    global tot\n",
    "    tot = tot - item\n",
    "\n",
    "for i in range(1000):\n",
    "    su = random.choice(data)\n",
    "    \n",
    "    if su < 0:\n",
    "        chulgo(su*-1)\n",
    "    else:\n",
    "        ibgo(su)\n",
    "print(f'총 재고 : {tot}')"
   ]
  }
 ],
 "metadata": {
  "kernelspec": {
   "display_name": "ai",
   "language": "python",
   "name": "python3"
  },
  "language_info": {
   "codemirror_mode": {
    "name": "ipython",
    "version": 3
   },
   "file_extension": ".py",
   "mimetype": "text/x-python",
   "name": "python",
   "nbconvert_exporter": "python",
   "pygments_lexer": "ipython3",
   "version": "3.10.13"
  }
 },
 "nbformat": 4,
 "nbformat_minor": 2
}
